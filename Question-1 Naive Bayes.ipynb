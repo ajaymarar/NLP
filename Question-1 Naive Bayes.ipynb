{
 "cells": [
  {
   "cell_type": "code",
   "execution_count": 1,
   "id": "5c54112d",
   "metadata": {},
   "outputs": [
    {
     "name": "stdout",
     "output_type": "stream",
     "text": [
      "Tuned Model Accuracy: 0.7621374883060744\n"
     ]
    }
   ],
   "source": [
    "from sklearn.feature_extraction.text import TfidfVectorizer\n",
    "from sklearn.model_selection import train_test_split\n",
    "from sklearn.naive_bayes import MultinomialNB\n",
    "from sklearn.model_selection import GridSearchCV\n",
    "\n",
    "import pandas as pd\n",
    "\n",
    "# Readihg\n",
    "train_file_path = 'C:/Users/Ajay/Downloads/train_150k.txt'\n",
    "test_file_path = 'C:/Users/Ajay/Downloads/test_62k.txt'\n",
    "\n",
    "train_df = pd.read_csv(train_file_path, sep='\\t', header=None, encoding='utf-8')\n",
    "test_df = pd.read_csv(test_file_path, sep='\\t', header=None, encoding='utf-8')\n",
    "\n",
    "# Separate text and labels in train data\n",
    "train_text = train_df[1].str.strip()\n",
    "train_labels = train_df[0].astype(int)\n",
    "\n",
    "# Separate text and labels in test data\n",
    "test_text = test_df[1].str.strip()\n",
    "test_labels = test_df[0].astype(int)\n",
    "# Assuming sentiment indicator is in the first column\n",
    "\n",
    "# Vectorize the text data using TF-IDF\n",
    "tfidf_vectorizer = TfidfVectorizer()\n",
    "X_train_tfidf = tfidf_vectorizer.fit_transform(train_text)\n",
    "X_test_tfidf = tfidf_vectorizer.transform(test_text)\n",
    "\n",
    "# Train the Naive Bayes Classifier on the TF-IDF vectors\n",
    "nb_classifier_tfidf = MultinomialNB()\n",
    "\n",
    "# Define the parameter grid for grid search\n",
    "param_grid = {'alpha': [0.1, 0.5, 1.0, 1.5, 2.0]}\n",
    "\n",
    "# Create a grid search object\n",
    "grid_search = GridSearchCV(nb_classifier_tfidf, param_grid, cv=5)\n",
    "grid_search.fit(X_train_tfidf, train_labels)\n",
    "\n",
    "# Get the best parameters\n",
    "best_params = grid_search.best_params_\n",
    "\n",
    "# Train the model with the best parameters\n",
    "nb_classifier_tuned = MultinomialNB(alpha=best_params['alpha'])\n",
    "nb_classifier_tuned.fit(X_train_tfidf, train_labels)\n",
    "\n",
    "accuracy_tuned = nb_classifier_tuned.score(X_test_tfidf, test_labels)\n",
    "print(f\"Tuned Model Accuracy: {accuracy_tuned}\")"
   ]
  }
 ],
 "metadata": {
  "kernelspec": {
   "display_name": "Python 3 (ipykernel)",
   "language": "python",
   "name": "python3"
  },
  "language_info": {
   "codemirror_mode": {
    "name": "ipython",
    "version": 3
   },
   "file_extension": ".py",
   "mimetype": "text/x-python",
   "name": "python",
   "nbconvert_exporter": "python",
   "pygments_lexer": "ipython3",
   "version": "3.11.3"
  }
 },
 "nbformat": 4,
 "nbformat_minor": 5
}
